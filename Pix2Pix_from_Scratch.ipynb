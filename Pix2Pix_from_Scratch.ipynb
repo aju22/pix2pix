{
  "nbformat": 4,
  "nbformat_minor": 0,
  "metadata": {
    "colab": {
      "name": "Pix2Pix from Scratch.ipynb",
      "provenance": [],
      "collapsed_sections": [],
      "authorship_tag": "ABX9TyN6RkvdkDASWhrnFntU1Lkq",
      "include_colab_link": true
    },
    "kernelspec": {
      "name": "python3",
      "display_name": "Python 3"
    },
    "language_info": {
      "name": "python"
    }
  },
  "cells": [
    {
      "cell_type": "markdown",
      "metadata": {
        "id": "view-in-github",
        "colab_type": "text"
      },
      "source": [
        "<a href=\"https://colab.research.google.com/github/aju22/pix2pix/blob/main/Pix2Pix_from_Scratch.ipynb\" target=\"_parent\"><img src=\"https://colab.research.google.com/assets/colab-badge.svg\" alt=\"Open In Colab\"/></a>"
      ]
    },
    {
      "cell_type": "code",
      "execution_count": null,
      "metadata": {
        "id": "pMYd4nzru1br"
      },
      "outputs": [],
      "source": [
        "import tensorflow as tf\n",
        "import tensorflow.keras.layers as layers"
      ]
    },
    {
      "cell_type": "markdown",
      "source": [
        "# Model Architecture"
      ],
      "metadata": {
        "id": "74Bdxtp64TyV"
      }
    },
    {
      "cell_type": "markdown",
      "source": [
        "The Pix2Pix GAN is a general approach for image-to-image translation. It is based on the conditional generative adversarial network, where a target image is generated, conditional on a given input image. In this case, the Pix2Pix GAN changes the loss function so that the generated image is both plausible in the content of the target domain, and is a plausible translation of the input image.\n",
        "\n",
        "\n",
        "---\n",
        "\n",
        "\n",
        "![Model](https://paper-attachments.dropbox.com/s_84D9D849F786EC83B26BF2A0F74F0C33230682E8BA1D41AD8C3F3D770D23236A_1566175741579_dlhacks-perceptual-adversarial-networks-for-imagetoimage-transformation-7-638.jpg)\n",
        "\n",
        "\n",
        "---\n",
        "\n",
        "\n",
        "### Generator\n",
        "\n",
        "A U-Net model architecture is used for the generator, instead of the common encoder-decoder model.\n",
        "\n",
        "### Discriminator\n",
        "\n",
        "Unlike the traditional GAN model that uses a deep convolutional neural network to classify images, the Pix2Pix model uses a PatchGAN. This is a deep convolutional neural network designed to classify patches of an input image as real or fake, rather than the entire image.\n",
        "\n"
      ],
      "metadata": {
        "id": "Q7v9GR254W9G"
      }
    },
    {
      "cell_type": "code",
      "source": [
        "class CNNBlock(layers.Layer):\n",
        "  def __init__(self, filters, size, apply_batchnorm = True, apply_dropout = False, downsample = True):\n",
        "    super().__init__()\n",
        "\n",
        "    self.apply_batchnorm = apply_batchnorm if downsample else True\n",
        "    self.apply_dropout = apply_dropout if not downsample else False\n",
        "    self.conv = layers.Conv2D(filters, size, strides=2, padding='same', use_bias=False) if downsample else tf.keras.layers.Conv2DTranspose(filters, size, strides=2, padding='same',use_bias=False) \n",
        "    self.bn = layers.BatchNormalization()\n",
        "    self.leaky_relu = layers.LeakyReLU()\n",
        "    self.dropout = layers.Dropout(0.5)\n",
        "  \n",
        "  def call(self, x):\n",
        "    x = self.conv(x)\n",
        "    \n",
        "    if self.apply_batchnorm:\n",
        "      x = self.bn(x)\n",
        "    \n",
        "    x = self.leaky_relu(x)\n",
        "    \n",
        "    if self.apply_dropout:\n",
        "      x = self.droput(x)  \n",
        "\n",
        "    return x"
      ],
      "metadata": {
        "id": "K-XBoQ7ivIp1"
      },
      "execution_count": null,
      "outputs": []
    },
    {
      "cell_type": "code",
      "source": [
        "class Generator(tf.keras.Model):\n",
        "  \n",
        "  def __init__(self, out_channels):\n",
        "\n",
        "    super().__init__()\n",
        "\n",
        "    self.downsample = tf.keras.Sequential([\n",
        "                                           CNNBlock(64, 4, apply_batchnorm=False),  # (batch_size, 128, 128, 64)\n",
        "                                           CNNBlock(128, 4),  # (batch_size, 64, 64, 128)\n",
        "                                           CNNBlock(256, 4),  # (batch_size, 32, 32, 256)\n",
        "                                           CNNBlock(512, 4),  # (batch_size, 16, 16, 512)\n",
        "                                           CNNBlock(512, 4),  # (batch_size, 8, 8, 512)\n",
        "                                           CNNBlock(512, 4),  # (batch_size, 4, 4, 512)\n",
        "                                           CNNBlock(512, 4),  # (batch_size, 2, 2, 512)\n",
        "                                           CNNBlock(512, 4),  # (batch_size, 1, 1, 512)\n",
        "                                         ])\n",
        "  \n",
        "    self.upsample = tf.keras.Sequential([\n",
        "                                         CNNBlock(512, 4, apply_dropout=True, downsample = False),  # (batch_size, 2, 2, 1024)\n",
        "                                         CNNBlock(512, 4, apply_dropout=True, downsample = False),  # (batch_size, 4, 4, 1024)\n",
        "                                         CNNBlock(512, 4, apply_dropout=True, downsample = False),  # (batch_size, 8, 8, 1024)\n",
        "                                         CNNBlock(512, 4, downsample = False),  # (batch_size, 16, 16, 1024)\n",
        "                                         CNNBlock(256, 4, downsample = False),  # (batch_size, 32, 32, 512)\n",
        "                                         CNNBlock(128, 4, downsample = False),  # (batch_size, 64, 64, 256)\n",
        "                                         CNNBlock(64, 4, downsample = False),   # (batch_size, 128, 128, 128)\n",
        "                                        ])\n",
        "    \n",
        "    self.final = tf.keras.layers.Conv2DTranspose(out_channels, 4, strides=2, padding='same', activation='tanh')\n",
        "\n",
        "\n",
        "  def call(self, x):\n",
        "\n",
        "    skips = []\n",
        "    for down in self.downsample:\n",
        "      x = down(x)\n",
        "      skips.append(x)\n",
        "\n",
        "    skips = reversed(skips[:-1])\n",
        "\n",
        "    for up, skip in zip(self.upsample, skips):\n",
        "      x = up(x)\n",
        "      x = tf.keras.layers.Concatenate()([x, skip])\n",
        "\n",
        "    x = self.final(x)\n",
        "\n",
        "    return x  "
      ],
      "metadata": {
        "id": "XZRrIUYGxhaF"
      },
      "execution_count": null,
      "outputs": []
    },
    {
      "cell_type": "code",
      "source": [
        "class Discriminator(tf.keras.Model):\n",
        "  def __init__(self):\n",
        "    super().__init__()\n",
        "\n",
        "    self.concat = layers.concatenate\n",
        "    self.down1 = CNNBlock(64, 4, False)\n",
        "    self.down2 = CNNBlock(128, 4) \n",
        "    self.down3 = CNNBlock(256, 4)\n",
        "    self.zero_pad1 = layers.ZeroPadding2D()\n",
        "    self.conv = layers.Conv2D(512, 4, strides=1, use_bias=False)\n",
        "    self.bn1 = layers.BatchNormalization()\n",
        "    self.leaky_relu = layers.LeakyReLU()\n",
        "    self.zero_pad2 = layers.ZeroPadding2D()\n",
        "    self.final = layers.Conv2D(1, 4, strides=1)\n",
        "\n",
        "  def call(self, input_tensor):\n",
        "\n",
        "    #here input_tensor = [inp, tar]\n",
        "\n",
        "    x = self.concat([input_tensor[0], input_tensor[1]])\n",
        "    x  = self.down1(x)\n",
        "    x  = self.down2(x)\n",
        "    x = self.down3(x)\n",
        "    x = self.zero_pad1(x)\n",
        "    x = self.conv(x)\n",
        "    x = self.bn1(x)\n",
        "    x = self.leaky_relu(x)\n",
        "    x = self.zero_pad2(x)\n",
        "    \n",
        "    return self.final(x)"
      ],
      "metadata": {
        "id": "8p53zpV56Qj4"
      },
      "execution_count": null,
      "outputs": []
    },
    {
      "cell_type": "code",
      "source": [
        "gen_model = Generator(out_channels = 3)"
      ],
      "metadata": {
        "id": "KPwPqUwr-xHa"
      },
      "execution_count": null,
      "outputs": []
    },
    {
      "cell_type": "code",
      "source": [
        "disc_model = Discriminator()"
      ],
      "metadata": {
        "id": "fksd803V-31m"
      },
      "execution_count": null,
      "outputs": []
    }
  ]
}