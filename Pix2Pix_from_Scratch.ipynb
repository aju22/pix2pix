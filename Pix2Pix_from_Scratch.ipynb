{
  "nbformat": 4,
  "nbformat_minor": 0,
  "metadata": {
    "colab": {
      "name": "Pix2Pix from Scratch.ipynb",
      "provenance": [],
      "collapsed_sections": [],
      "authorship_tag": "ABX9TyO+/s3LobQpyzgriImYIRnJ",
      "include_colab_link": true
    },
    "kernelspec": {
      "name": "python3",
      "display_name": "Python 3"
    },
    "language_info": {
      "name": "python"
    }
  },
  "cells": [
    {
      "cell_type": "markdown",
      "metadata": {
        "id": "view-in-github",
        "colab_type": "text"
      },
      "source": [
        "<a href=\"https://colab.research.google.com/github/aju22/pix2pix/blob/main/Pix2Pix_from_Scratch.ipynb\" target=\"_parent\"><img src=\"https://colab.research.google.com/assets/colab-badge.svg\" alt=\"Open In Colab\"/></a>"
      ]
    },
    {
      "cell_type": "code",
      "execution_count": 14,
      "metadata": {
        "id": "pMYd4nzru1br"
      },
      "outputs": [],
      "source": [
        "import tensorflow as tf\n",
        "import tensorflow.keras.layers as layers"
      ]
    },
    {
      "cell_type": "markdown",
      "source": [
        "# Model Architecture"
      ],
      "metadata": {
        "id": "74Bdxtp64TyV"
      }
    },
    {
      "cell_type": "markdown",
      "source": [
        "The Pix2Pix GAN is a general approach for image-to-image translation. It is based on the conditional generative adversarial network, where a target image is generated, conditional on a given input image. In this case, the Pix2Pix GAN changes the loss function so that the generated image is both plausible in the content of the target domain, and is a plausible translation of the input image.\n",
        "\n",
        "\n",
        "---\n",
        "\n",
        "\n",
        "![Model](https://paper-attachments.dropbox.com/s_84D9D849F786EC83B26BF2A0F74F0C33230682E8BA1D41AD8C3F3D770D23236A_1566175741579_dlhacks-perceptual-adversarial-networks-for-imagetoimage-transformation-7-638.jpg)\n",
        "\n",
        "\n",
        "---\n",
        "\n",
        "\n",
        "### Generator\n",
        "\n",
        "A U-Net model architecture is used for the generator, instead of the common encoder-decoder model.\n",
        "\n",
        "### Discriminator\n",
        "\n",
        "Unlike the traditional GAN model that uses a deep convolutional neural network to classify images, the Pix2Pix model uses a PatchGAN. This is a deep convolutional neural network designed to classify patches of an input image as real or fake, rather than the entire image.\n",
        "\n"
      ],
      "metadata": {
        "id": "Q7v9GR254W9G"
      }
    },
    {
      "cell_type": "code",
      "source": [
        "class CNNBlock(layers.Layer):\n",
        "  def __init__(self, filters, size, apply_batchnorm = True, apply_dropout = False, downsample = True):\n",
        "    super().__init__()\n",
        "\n",
        "    self.apply_batchnorm = apply_batchnorm if downsample else True\n",
        "    self.apply_dropout = apply_dropout if not downsample else False\n",
        "    self.conv = layers.Conv2D(filters, size, strides=2, padding='same', use_bias=False) if downsample else tf.keras.layers.Conv2DTranspose(filters, size, strides=2, padding='same',use_bias=False) \n",
        "    self.bn = layers.BatchNormalization()\n",
        "    self.leaky_relu = layers.LeakyReLU()\n",
        "    self.dropout = layers.Dropout(0.5)\n",
        "  \n",
        "  def call(self, x):\n",
        "    x = self.conv(x)\n",
        "    \n",
        "    if self.apply_batchnorm:\n",
        "      x = self.bn(x)\n",
        "    \n",
        "    x = self.leaky_relu(x)\n",
        "    \n",
        "    if self.apply_dropout:\n",
        "      x = self.droput(x)  \n",
        "\n",
        "    return x"
      ],
      "metadata": {
        "id": "K-XBoQ7ivIp1"
      },
      "execution_count": 15,
      "outputs": []
    },
    {
      "cell_type": "code",
      "source": [
        "class Generator(tf.keras.Model):\n",
        "  \n",
        "  def __init__(self, out_channels):\n",
        "\n",
        "    super().__init__()\n",
        "\n",
        "    self.downsample = tf.keras.Sequential([\n",
        "                                           CNNBlock(64, 4, apply_batchnorm=False),  # (batch_size, 128, 128, 64)\n",
        "                                           CNNBlock(128, 4),  # (batch_size, 64, 64, 128)\n",
        "                                           CNNBlock(256, 4),  # (batch_size, 32, 32, 256)\n",
        "                                           CNNBlock(512, 4),  # (batch_size, 16, 16, 512)\n",
        "                                           CNNBlock(512, 4),  # (batch_size, 8, 8, 512)\n",
        "                                           CNNBlock(512, 4),  # (batch_size, 4, 4, 512)\n",
        "                                           CNNBlock(512, 4),  # (batch_size, 2, 2, 512)\n",
        "                                           CNNBlock(512, 4),  # (batch_size, 1, 1, 512)\n",
        "                                         ])\n",
        "  \n",
        "    self.upsample = tf.keras.Sequential([\n",
        "                                         CNNBlock(512, 4, apply_dropout=True, downsample = False),  # (batch_size, 2, 2, 1024)\n",
        "                                         CNNBlock(512, 4, apply_dropout=True, downsample = False),  # (batch_size, 4, 4, 1024)\n",
        "                                         CNNBlock(512, 4, apply_dropout=True, downsample = False),  # (batch_size, 8, 8, 1024)\n",
        "                                         CNNBlock(512, 4, downsample = False),  # (batch_size, 16, 16, 1024)\n",
        "                                         CNNBlock(256, 4, downsample = False),  # (batch_size, 32, 32, 512)\n",
        "                                         CNNBlock(128, 4, downsample = False),  # (batch_size, 64, 64, 256)\n",
        "                                         CNNBlock(64, 4, downsample = False),   # (batch_size, 128, 128, 128)\n",
        "                                        ])\n",
        "    \n",
        "    self.final = tf.keras.layers.Conv2DTranspose(out_channels, 4, strides=2, padding='same', activation='tanh')\n",
        "\n",
        "\n",
        "  def call(self, x):\n",
        "\n",
        "    skips = []\n",
        "    for down in self.downsample:\n",
        "      x = down(x)\n",
        "      skips.append(x)\n",
        "\n",
        "    skips = reversed(skips[:-1])\n",
        "\n",
        "    for up, skip in zip(self.upsample, skips):\n",
        "      x = up(x)\n",
        "      x = tf.keras.layers.Concatenate()([x, skip])\n",
        "\n",
        "    x = self.final(x)\n",
        "\n",
        "    return x  "
      ],
      "metadata": {
        "id": "XZRrIUYGxhaF"
      },
      "execution_count": 16,
      "outputs": []
    },
    {
      "cell_type": "code",
      "source": [
        "class Discriminator(tf.keras.Model):\n",
        "  def __init__(self):\n",
        "    super().__init__()\n",
        "\n",
        "    self.concat = layers.concatenate\n",
        "    self.down1 = CNNBlock(64, 4, False)\n",
        "    self.down2 = CNNBlock(128, 4) \n",
        "    self.down3 = CNNBlock(256, 4)\n",
        "    self.zero_pad1 = layers.ZeroPadding2D()\n",
        "    self.conv = layers.Conv2D(512, 4, strides=1, use_bias=False)\n",
        "    self.bn1 = layers.BatchNormalization()\n",
        "    self.leaky_relu = layers.LeakyReLU()\n",
        "    self.zero_pad2 = layers.ZeroPadding2D()\n",
        "    self.final = layers.Conv2D(1, 4, strides=1)\n",
        "\n",
        "  def call(self, input_tensor):\n",
        "\n",
        "    #here input_tensor = [inp, tar]\n",
        "\n",
        "    x = self.concat([input_tensor[0], input_tensor[1]])\n",
        "    x  = self.down1(x)\n",
        "    x  = self.down2(x)\n",
        "    x = self.down3(x)\n",
        "    x = self.zero_pad1(x)\n",
        "    x = self.conv(x)\n",
        "    x = self.bn1(x)\n",
        "    x = self.leaky_relu(x)\n",
        "    x = self.zero_pad2(x)\n",
        "    \n",
        "    return self.final(x)"
      ],
      "metadata": {
        "id": "8p53zpV56Qj4"
      },
      "execution_count": 17,
      "outputs": []
    },
    {
      "cell_type": "code",
      "source": [
        "generator = Generator(out_channels = 3)"
      ],
      "metadata": {
        "id": "KPwPqUwr-xHa"
      },
      "execution_count": 18,
      "outputs": []
    },
    {
      "cell_type": "code",
      "source": [
        "discriminator = Discriminator()"
      ],
      "metadata": {
        "id": "fksd803V-31m"
      },
      "execution_count": 19,
      "outputs": []
    },
    {
      "cell_type": "markdown",
      "source": [
        "# Loss Functions"
      ],
      "metadata": {
        "id": "6RglWn107tQ8"
      }
    },
    {
      "cell_type": "code",
      "source": [
        "bce = tf.keras.losses.BinaryCrossentropy(from_logits = True)\n",
        "LAMBDA = 100"
      ],
      "metadata": {
        "id": "8D4vZdva8uXv"
      },
      "execution_count": 20,
      "outputs": []
    },
    {
      "cell_type": "code",
      "source": [
        "def discriminator_loss(disc_real_output, disc_generated_output):\n",
        "  real_loss = bce(tf.ones_like(disc_real_output), disc_real_output)\n",
        " \n",
        "  generated_loss = bce(tf.zeros_like(disc_generated_output), disc_generated_output)\n",
        " \n",
        "  total_disc_loss = real_loss + generated_loss\n",
        " \n",
        "  return total_disc_loss"
      ],
      "metadata": {
        "id": "ynYtR5F77u3i"
      },
      "execution_count": 21,
      "outputs": []
    },
    {
      "cell_type": "code",
      "source": [
        "def generator_loss(disc_generated_output, gen_output, target):\n",
        "  gan_loss = bce(tf.ones_like(disc_generated_output), disc_generated_output)\n",
        "\n",
        "  # Mean absolute error\n",
        "  l1_loss = tf.reduce_mean(tf.abs(target - gen_output))\n",
        "\n",
        "  total_gen_loss = gan_loss + (LAMBDA * l1_loss)\n",
        "\n",
        "  return total_gen_loss, gan_loss, l1_loss"
      ],
      "metadata": {
        "id": "KtkE6rpr70I7"
      },
      "execution_count": 22,
      "outputs": []
    },
    {
      "cell_type": "markdown",
      "source": [
        "# Training the Model"
      ],
      "metadata": {
        "id": "Xrc03I3689GS"
      }
    },
    {
      "cell_type": "code",
      "source": [
        "generator_optimizer = tf.keras.optimizers.Adam(2e-4, beta_1=0.5)\n",
        "discriminator_optimizer = tf.keras.optimizers.Adam(2e-4, beta_1=0.5)"
      ],
      "metadata": {
        "id": "B2Ul0H-F9RPc"
      },
      "execution_count": 23,
      "outputs": []
    },
    {
      "cell_type": "code",
      "source": [
        "@tf.function\n",
        "def train_step(input_image, target, step):\n",
        "  with tf.GradientTape() as gen_tape, tf.GradientTape() as disc_tape:\n",
        "    gen_output = generator(input_image, training=True)\n",
        "\n",
        "    disc_real_output = discriminator([input_image, target], training=True)\n",
        "    disc_generated_output = discriminator([input_image, gen_output], training=True)\n",
        "\n",
        "    gen_total_loss, gen_gan_loss, gen_l1_loss = generator_loss(disc_generated_output, gen_output, target)\n",
        "    disc_loss = discriminator_loss(disc_real_output, disc_generated_output)\n",
        "\n",
        "  generator_gradients = gen_tape.gradient(gen_total_loss,\n",
        "                                          generator.trainable_variables)\n",
        "  discriminator_gradients = disc_tape.gradient(disc_loss,\n",
        "                                               discriminator.trainable_variables)\n",
        "\n",
        "  generator_optimizer.apply_gradients(zip(generator_gradients,\n",
        "                                          generator.trainable_variables))\n",
        "  discriminator_optimizer.apply_gradients(zip(discriminator_gradients,\n",
        "                                              discriminator.trainable_variables))"
      ],
      "metadata": {
        "id": "idCccPm387qD"
      },
      "execution_count": null,
      "outputs": []
    },
    {
      "cell_type": "markdown",
      "source": [
        "#Evaluating the Model"
      ],
      "metadata": {
        "id": "MU-HfYxA9ncQ"
      }
    },
    {
      "cell_type": "code",
      "source": [
        "import matplotlib.pyplot as plt"
      ],
      "metadata": {
        "id": "MWcAs2iL9u49"
      },
      "execution_count": 25,
      "outputs": []
    },
    {
      "cell_type": "code",
      "source": [
        "def generate_images(model, test_input, tar):\n",
        "  prediction = model(test_input, training=True)\n",
        "  plt.figure(figsize=(15, 15))\n",
        "\n",
        "  display_list = [test_input[0], tar[0], prediction[0]]\n",
        "  title = ['Input Image', 'Ground Truth', 'Predicted Image']\n",
        "\n",
        "  for i in range(3):\n",
        "    plt.subplot(1, 3, i+1)\n",
        "    plt.title(title[i])\n",
        "    # Getting the pixel values in the [0, 1] range to plot.\n",
        "    plt.imshow(display_list[i] * 0.5 + 0.5)\n",
        "    plt.axis('off')\n",
        "  plt.show()"
      ],
      "metadata": {
        "id": "D_MDDVS39qpx"
      },
      "execution_count": 24,
      "outputs": []
    },
    {
      "cell_type": "code",
      "source": [
        ""
      ],
      "metadata": {
        "id": "t9TbEwK29rZE"
      },
      "execution_count": null,
      "outputs": []
    }
  ]
}